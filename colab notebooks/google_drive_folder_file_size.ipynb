{
  "nbformat": 4,
  "nbformat_minor": 0,
  "metadata": {
    "colab": {
      "provenance": []
    },
    "kernelspec": {
      "name": "python3",
      "display_name": "Python 3"
    },
    "language_info": {
      "name": "python"
    }
  },
  "cells": [
    {
      "cell_type": "markdown",
      "source": [
        "Give credits to the author of the code wherever you use it...\n",
        "for more codes visit my official github page <<<<----------------------------------------------------------------------------------------------------------------------------------------->>>>[MITTAPELLI MANITEJA](https://github.com/maniteja2002)\n",
        "\n",
        "\n",
        "---\n",
        "\n",
        "\n",
        "\n",
        "*   ***Use 0 block to mount your google drive***\n",
        "*   ***Go to files and copy the path of your directory to measure the size and print the files of the directory***\n",
        "*   ***Paste the path of the directory in cells 1,2,3,4 according to your need***\n",
        "\n",
        "**What each cell can do are written below:--------------->>>>>>>>>**\n",
        "                                            \n",
        "1.   folder size and total size of the directory you've chosen(without time labelling).\n",
        "2.   folder size with listing of files in the folder and total size of the directory you've chosen(without time labelling).\n",
        "3.   folder size and total size of the directory you've chosen(with time labelling).\n",
        "4.   folder size with listing of files in the folder and total size of the directory you've chosen(with time labelling).\n",
        "\n",
        "\n",
        "From the author : ***MITTAPELLI MANITEJA***\n",
        "\n"
      ],
      "metadata": {
        "id": "30GWxNnmXpBG"
      }
    },
    {
      "cell_type": "code",
      "source": [
        "#@title 0.Mount Google drive from here { vertical-output: true, display-mode: \"form\" }\n",
        "from google.colab import drive\n",
        "drive.mount('/content/drive', force_remount=True)"
      ],
      "metadata": {
        "colab": {
          "base_uri": "https://localhost:8080/"
        },
        "id": "dLb7jdJp8i7y",
        "outputId": "e3bec4b9-09c8-4a21-f756-175ed376350f"
      },
      "execution_count": 11,
      "outputs": [
        {
          "output_type": "stream",
          "name": "stdout",
          "text": [
            "Mounted at /content/drive\n"
          ]
        }
      ]
    },
    {
      "cell_type": "code",
      "execution_count": null,
      "metadata": {
        "id": "54rSSoAv78T5",
        "cellView": "form"
      },
      "outputs": [],
      "source": [
        "#@title folder size✅, file size❌, total size✅, time❌ { run: \"auto\" }\n",
        "import os\n",
        "directory_path = \"\" #@param {type:\"string\"}\n",
        "os.chdir(directory_path)\n",
        "!du -shc -- *"
      ]
    },
    {
      "cell_type": "code",
      "source": [
        "#@title folder size✅, file size✅, total size✅, time❌ { run: \"auto\" }\n",
        "import os\n",
        "directory_path = \"\" #@param {type:\"string\"}\n",
        "os.chdir(directory_path)\n",
        "!du -ahc -- *"
      ],
      "metadata": {
        "cellView": "form",
        "id": "6lOAZGzdh1Ss"
      },
      "execution_count": null,
      "outputs": []
    },
    {
      "cell_type": "code",
      "source": [
        "#@title folder size✅, file size❌, total size✅, time✅ { run: \"auto\" }\n",
        "import os\n",
        "directory_path = \"\" #@param {type:\"string\"}\n",
        "os.chdir(directory_path)\n",
        "!du -shc --time *"
      ],
      "metadata": {
        "cellView": "form",
        "id": "2JgDFqc3iBLX"
      },
      "execution_count": null,
      "outputs": []
    },
    {
      "cell_type": "code",
      "source": [
        "#@title folder size✅, file size✅, total size✅, time✅ { run: \"auto\" }\n",
        "import os\n",
        "directory_path = \"\" #@param {type:\"string\"}\n",
        "os.chdir(directory_path)\n",
        "!du -ahc --time *"
      ],
      "metadata": {
        "cellView": "form",
        "id": "S5wcFKYsiF_k"
      },
      "execution_count": null,
      "outputs": []
    }
  ]
}